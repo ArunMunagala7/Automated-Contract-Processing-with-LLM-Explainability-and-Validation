{
  "nbformat": 4,
  "nbformat_minor": 0,
  "metadata": {
    "colab": {
      "provenance": [],
      "authorship_tag": "ABX9TyOBt95M6L8VNDWffb4XzHBV",
      "include_colab_link": true
    },
    "kernelspec": {
      "name": "python3",
      "display_name": "Python 3"
    },
    "language_info": {
      "name": "python"
    }
  },
  "cells": [
    {
      "cell_type": "markdown",
      "metadata": {
        "id": "view-in-github",
        "colab_type": "text"
      },
      "source": [
        "<a href=\"https://colab.research.google.com/github/ArunMunagala7/Zenskar-Assignment/blob/main/Zenskar_Flow_4.ipynb\" target=\"_parent\"><img src=\"https://colab.research.google.com/assets/colab-badge.svg\" alt=\"Open In Colab\"/></a>"
      ]
    },
    {
      "cell_type": "code",
      "source": [
        "!pip install --upgrade google-cloud-aiplatform\n",
        "!gcloud auth application-default login"
      ],
      "metadata": {
        "colab": {
          "base_uri": "https://localhost:8080/"
        },
        "id": "4ddzErB6OtQX",
        "outputId": "e5ed25ba-a0dc-43c1-c4ee-2a8c5369b2d9"
      },
      "execution_count": 74,
      "outputs": [
        {
          "output_type": "stream",
          "name": "stdout",
          "text": [
            "Requirement already satisfied: google-cloud-aiplatform in /usr/local/lib/python3.10/dist-packages (1.75.0)\n",
            "Requirement already satisfied: google-api-core!=2.0.*,!=2.1.*,!=2.2.*,!=2.3.*,!=2.4.*,!=2.5.*,!=2.6.*,!=2.7.*,<3.0.0dev,>=1.34.1 in /usr/local/lib/python3.10/dist-packages (from google-api-core[grpc]!=2.0.*,!=2.1.*,!=2.2.*,!=2.3.*,!=2.4.*,!=2.5.*,!=2.6.*,!=2.7.*,<3.0.0dev,>=1.34.1->google-cloud-aiplatform) (2.19.2)\n",
            "Requirement already satisfied: google-auth<3.0.0dev,>=2.14.1 in /usr/local/lib/python3.10/dist-packages (from google-cloud-aiplatform) (2.27.0)\n",
            "Requirement already satisfied: proto-plus<2.0.0dev,>=1.22.3 in /usr/local/lib/python3.10/dist-packages (from google-cloud-aiplatform) (1.25.0)\n",
            "Requirement already satisfied: protobuf!=4.21.0,!=4.21.1,!=4.21.2,!=4.21.3,!=4.21.4,!=4.21.5,<6.0.0dev,>=3.20.2 in /usr/local/lib/python3.10/dist-packages (from google-cloud-aiplatform) (4.25.5)\n",
            "Requirement already satisfied: packaging>=14.3 in /usr/local/lib/python3.10/dist-packages (from google-cloud-aiplatform) (24.2)\n",
            "Requirement already satisfied: google-cloud-storage<3.0.0dev,>=1.32.0 in /usr/local/lib/python3.10/dist-packages (from google-cloud-aiplatform) (2.19.0)\n",
            "Requirement already satisfied: google-cloud-bigquery!=3.20.0,<4.0.0dev,>=1.15.0 in /usr/local/lib/python3.10/dist-packages (from google-cloud-aiplatform) (3.25.0)\n",
            "Requirement already satisfied: google-cloud-resource-manager<3.0.0dev,>=1.3.3 in /usr/local/lib/python3.10/dist-packages (from google-cloud-aiplatform) (1.14.0)\n",
            "Requirement already satisfied: shapely<3.0.0dev in /usr/local/lib/python3.10/dist-packages (from google-cloud-aiplatform) (2.0.6)\n",
            "Requirement already satisfied: pydantic<3 in /usr/local/lib/python3.10/dist-packages (from google-cloud-aiplatform) (2.10.3)\n",
            "Requirement already satisfied: docstring-parser<1 in /usr/local/lib/python3.10/dist-packages (from google-cloud-aiplatform) (0.16)\n",
            "Requirement already satisfied: googleapis-common-protos<2.0.dev0,>=1.56.2 in /usr/local/lib/python3.10/dist-packages (from google-api-core!=2.0.*,!=2.1.*,!=2.2.*,!=2.3.*,!=2.4.*,!=2.5.*,!=2.6.*,!=2.7.*,<3.0.0dev,>=1.34.1->google-api-core[grpc]!=2.0.*,!=2.1.*,!=2.2.*,!=2.3.*,!=2.4.*,!=2.5.*,!=2.6.*,!=2.7.*,<3.0.0dev,>=1.34.1->google-cloud-aiplatform) (1.66.0)\n",
            "Requirement already satisfied: requests<3.0.0.dev0,>=2.18.0 in /usr/local/lib/python3.10/dist-packages (from google-api-core!=2.0.*,!=2.1.*,!=2.2.*,!=2.3.*,!=2.4.*,!=2.5.*,!=2.6.*,!=2.7.*,<3.0.0dev,>=1.34.1->google-api-core[grpc]!=2.0.*,!=2.1.*,!=2.2.*,!=2.3.*,!=2.4.*,!=2.5.*,!=2.6.*,!=2.7.*,<3.0.0dev,>=1.34.1->google-cloud-aiplatform) (2.32.3)\n",
            "Requirement already satisfied: grpcio<2.0dev,>=1.33.2 in /usr/local/lib/python3.10/dist-packages (from google-api-core[grpc]!=2.0.*,!=2.1.*,!=2.2.*,!=2.3.*,!=2.4.*,!=2.5.*,!=2.6.*,!=2.7.*,<3.0.0dev,>=1.34.1->google-cloud-aiplatform) (1.68.1)\n",
            "Requirement already satisfied: grpcio-status<2.0.dev0,>=1.33.2 in /usr/local/lib/python3.10/dist-packages (from google-api-core[grpc]!=2.0.*,!=2.1.*,!=2.2.*,!=2.3.*,!=2.4.*,!=2.5.*,!=2.6.*,!=2.7.*,<3.0.0dev,>=1.34.1->google-cloud-aiplatform) (1.62.3)\n",
            "Requirement already satisfied: cachetools<6.0,>=2.0.0 in /usr/local/lib/python3.10/dist-packages (from google-auth<3.0.0dev,>=2.14.1->google-cloud-aiplatform) (5.5.0)\n",
            "Requirement already satisfied: pyasn1-modules>=0.2.1 in /usr/local/lib/python3.10/dist-packages (from google-auth<3.0.0dev,>=2.14.1->google-cloud-aiplatform) (0.4.1)\n",
            "Requirement already satisfied: rsa<5,>=3.1.4 in /usr/local/lib/python3.10/dist-packages (from google-auth<3.0.0dev,>=2.14.1->google-cloud-aiplatform) (4.9)\n",
            "Requirement already satisfied: google-cloud-core<3.0.0dev,>=1.6.0 in /usr/local/lib/python3.10/dist-packages (from google-cloud-bigquery!=3.20.0,<4.0.0dev,>=1.15.0->google-cloud-aiplatform) (2.4.1)\n",
            "Requirement already satisfied: google-resumable-media<3.0dev,>=0.6.0 in /usr/local/lib/python3.10/dist-packages (from google-cloud-bigquery!=3.20.0,<4.0.0dev,>=1.15.0->google-cloud-aiplatform) (2.7.2)\n",
            "Requirement already satisfied: python-dateutil<3.0dev,>=2.7.2 in /usr/local/lib/python3.10/dist-packages (from google-cloud-bigquery!=3.20.0,<4.0.0dev,>=1.15.0->google-cloud-aiplatform) (2.8.2)\n",
            "Requirement already satisfied: grpc-google-iam-v1<1.0.0dev,>=0.12.4 in /usr/local/lib/python3.10/dist-packages (from google-cloud-resource-manager<3.0.0dev,>=1.3.3->google-cloud-aiplatform) (0.13.1)\n",
            "Requirement already satisfied: google-crc32c<2.0dev,>=1.0 in /usr/local/lib/python3.10/dist-packages (from google-cloud-storage<3.0.0dev,>=1.32.0->google-cloud-aiplatform) (1.6.0)\n",
            "Requirement already satisfied: annotated-types>=0.6.0 in /usr/local/lib/python3.10/dist-packages (from pydantic<3->google-cloud-aiplatform) (0.7.0)\n",
            "Requirement already satisfied: pydantic-core==2.27.1 in /usr/local/lib/python3.10/dist-packages (from pydantic<3->google-cloud-aiplatform) (2.27.1)\n",
            "Requirement already satisfied: typing-extensions>=4.12.2 in /usr/local/lib/python3.10/dist-packages (from pydantic<3->google-cloud-aiplatform) (4.12.2)\n",
            "Requirement already satisfied: numpy<3,>=1.14 in /usr/local/lib/python3.10/dist-packages (from shapely<3.0.0dev->google-cloud-aiplatform) (1.26.4)\n",
            "Requirement already satisfied: pyasn1<0.7.0,>=0.4.6 in /usr/local/lib/python3.10/dist-packages (from pyasn1-modules>=0.2.1->google-auth<3.0.0dev,>=2.14.1->google-cloud-aiplatform) (0.6.1)\n",
            "Requirement already satisfied: six>=1.5 in /usr/local/lib/python3.10/dist-packages (from python-dateutil<3.0dev,>=2.7.2->google-cloud-bigquery!=3.20.0,<4.0.0dev,>=1.15.0->google-cloud-aiplatform) (1.17.0)\n",
            "Requirement already satisfied: charset-normalizer<4,>=2 in /usr/local/lib/python3.10/dist-packages (from requests<3.0.0.dev0,>=2.18.0->google-api-core!=2.0.*,!=2.1.*,!=2.2.*,!=2.3.*,!=2.4.*,!=2.5.*,!=2.6.*,!=2.7.*,<3.0.0dev,>=1.34.1->google-api-core[grpc]!=2.0.*,!=2.1.*,!=2.2.*,!=2.3.*,!=2.4.*,!=2.5.*,!=2.6.*,!=2.7.*,<3.0.0dev,>=1.34.1->google-cloud-aiplatform) (3.4.0)\n",
            "Requirement already satisfied: idna<4,>=2.5 in /usr/local/lib/python3.10/dist-packages (from requests<3.0.0.dev0,>=2.18.0->google-api-core!=2.0.*,!=2.1.*,!=2.2.*,!=2.3.*,!=2.4.*,!=2.5.*,!=2.6.*,!=2.7.*,<3.0.0dev,>=1.34.1->google-api-core[grpc]!=2.0.*,!=2.1.*,!=2.2.*,!=2.3.*,!=2.4.*,!=2.5.*,!=2.6.*,!=2.7.*,<3.0.0dev,>=1.34.1->google-cloud-aiplatform) (3.10)\n",
            "Requirement already satisfied: urllib3<3,>=1.21.1 in /usr/local/lib/python3.10/dist-packages (from requests<3.0.0.dev0,>=2.18.0->google-api-core!=2.0.*,!=2.1.*,!=2.2.*,!=2.3.*,!=2.4.*,!=2.5.*,!=2.6.*,!=2.7.*,<3.0.0dev,>=1.34.1->google-api-core[grpc]!=2.0.*,!=2.1.*,!=2.2.*,!=2.3.*,!=2.4.*,!=2.5.*,!=2.6.*,!=2.7.*,<3.0.0dev,>=1.34.1->google-cloud-aiplatform) (2.2.3)\n",
            "Requirement already satisfied: certifi>=2017.4.17 in /usr/local/lib/python3.10/dist-packages (from requests<3.0.0.dev0,>=2.18.0->google-api-core!=2.0.*,!=2.1.*,!=2.2.*,!=2.3.*,!=2.4.*,!=2.5.*,!=2.6.*,!=2.7.*,<3.0.0dev,>=1.34.1->google-api-core[grpc]!=2.0.*,!=2.1.*,!=2.2.*,!=2.3.*,!=2.4.*,!=2.5.*,!=2.6.*,!=2.7.*,<3.0.0dev,>=1.34.1->google-cloud-aiplatform) (2024.12.14)\n",
            "Go to the following link in your browser, and complete the sign-in prompts:\n",
            "\n",
            "    https://accounts.google.com/o/oauth2/auth?response_type=code&client_id=764086051850-6qr4p6gpi6hn506pt8ejuq83di341hur.apps.googleusercontent.com&redirect_uri=https%3A%2F%2Fsdk.cloud.google.com%2Fapplicationdefaultauthcode.html&scope=openid+https%3A%2F%2Fwww.googleapis.com%2Fauth%2Fuserinfo.email+https%3A%2F%2Fwww.googleapis.com%2Fauth%2Fcloud-platform+https%3A%2F%2Fwww.googleapis.com%2Fauth%2Fsqlservice.login&state=azUQFVMjkLgBnrJ9dAy4ZSDt29VHHP&prompt=consent&token_usage=remote&access_type=offline&code_challenge=7kfoPhryh_oJG6PmF4ze05ESICp4Ng7hD2C6Uiqhl0w&code_challenge_method=S256\n",
            "\n",
            "Once finished, enter the verification code provided in your browser: 4/0AanRRruHCf9VdMOjzT7996YYUg0lwQO2cwWl95MKgzxq2OwcvRJv1JmetsiJjqmS8wDFZg\n",
            "\n",
            "Credentials saved to file: [/content/.config/application_default_credentials.json]\n",
            "\n",
            "These credentials will be used by any library that requests Application Default Credentials (ADC).\n",
            "\u001b[1;33mWARNING:\u001b[0m \n",
            "Cannot find a quota project to add to ADC. You might receive a \"quota exceeded\" or \"API not enabled\" error. Run $ gcloud auth application-default set-quota-project to add a quota project.\n"
          ]
        }
      ]
    },
    {
      "cell_type": "code",
      "source": [
        "!pip install google-cloud-aiplatform\n",
        "!pip install pymupdf"
      ],
      "metadata": {
        "colab": {
          "base_uri": "https://localhost:8080/"
        },
        "id": "Pd-Uh6QlMseS",
        "outputId": "e0f39809-8767-4593-9307-c028c9100c93"
      },
      "execution_count": 75,
      "outputs": [
        {
          "output_type": "stream",
          "name": "stdout",
          "text": [
            "Requirement already satisfied: google-cloud-aiplatform in /usr/local/lib/python3.10/dist-packages (1.75.0)\n",
            "Requirement already satisfied: google-api-core!=2.0.*,!=2.1.*,!=2.2.*,!=2.3.*,!=2.4.*,!=2.5.*,!=2.6.*,!=2.7.*,<3.0.0dev,>=1.34.1 in /usr/local/lib/python3.10/dist-packages (from google-api-core[grpc]!=2.0.*,!=2.1.*,!=2.2.*,!=2.3.*,!=2.4.*,!=2.5.*,!=2.6.*,!=2.7.*,<3.0.0dev,>=1.34.1->google-cloud-aiplatform) (2.19.2)\n",
            "Requirement already satisfied: google-auth<3.0.0dev,>=2.14.1 in /usr/local/lib/python3.10/dist-packages (from google-cloud-aiplatform) (2.27.0)\n",
            "Requirement already satisfied: proto-plus<2.0.0dev,>=1.22.3 in /usr/local/lib/python3.10/dist-packages (from google-cloud-aiplatform) (1.25.0)\n",
            "Requirement already satisfied: protobuf!=4.21.0,!=4.21.1,!=4.21.2,!=4.21.3,!=4.21.4,!=4.21.5,<6.0.0dev,>=3.20.2 in /usr/local/lib/python3.10/dist-packages (from google-cloud-aiplatform) (4.25.5)\n",
            "Requirement already satisfied: packaging>=14.3 in /usr/local/lib/python3.10/dist-packages (from google-cloud-aiplatform) (24.2)\n",
            "Requirement already satisfied: google-cloud-storage<3.0.0dev,>=1.32.0 in /usr/local/lib/python3.10/dist-packages (from google-cloud-aiplatform) (2.19.0)\n",
            "Requirement already satisfied: google-cloud-bigquery!=3.20.0,<4.0.0dev,>=1.15.0 in /usr/local/lib/python3.10/dist-packages (from google-cloud-aiplatform) (3.25.0)\n",
            "Requirement already satisfied: google-cloud-resource-manager<3.0.0dev,>=1.3.3 in /usr/local/lib/python3.10/dist-packages (from google-cloud-aiplatform) (1.14.0)\n",
            "Requirement already satisfied: shapely<3.0.0dev in /usr/local/lib/python3.10/dist-packages (from google-cloud-aiplatform) (2.0.6)\n",
            "Requirement already satisfied: pydantic<3 in /usr/local/lib/python3.10/dist-packages (from google-cloud-aiplatform) (2.10.3)\n",
            "Requirement already satisfied: docstring-parser<1 in /usr/local/lib/python3.10/dist-packages (from google-cloud-aiplatform) (0.16)\n",
            "Requirement already satisfied: googleapis-common-protos<2.0.dev0,>=1.56.2 in /usr/local/lib/python3.10/dist-packages (from google-api-core!=2.0.*,!=2.1.*,!=2.2.*,!=2.3.*,!=2.4.*,!=2.5.*,!=2.6.*,!=2.7.*,<3.0.0dev,>=1.34.1->google-api-core[grpc]!=2.0.*,!=2.1.*,!=2.2.*,!=2.3.*,!=2.4.*,!=2.5.*,!=2.6.*,!=2.7.*,<3.0.0dev,>=1.34.1->google-cloud-aiplatform) (1.66.0)\n",
            "Requirement already satisfied: requests<3.0.0.dev0,>=2.18.0 in /usr/local/lib/python3.10/dist-packages (from google-api-core!=2.0.*,!=2.1.*,!=2.2.*,!=2.3.*,!=2.4.*,!=2.5.*,!=2.6.*,!=2.7.*,<3.0.0dev,>=1.34.1->google-api-core[grpc]!=2.0.*,!=2.1.*,!=2.2.*,!=2.3.*,!=2.4.*,!=2.5.*,!=2.6.*,!=2.7.*,<3.0.0dev,>=1.34.1->google-cloud-aiplatform) (2.32.3)\n",
            "Requirement already satisfied: grpcio<2.0dev,>=1.33.2 in /usr/local/lib/python3.10/dist-packages (from google-api-core[grpc]!=2.0.*,!=2.1.*,!=2.2.*,!=2.3.*,!=2.4.*,!=2.5.*,!=2.6.*,!=2.7.*,<3.0.0dev,>=1.34.1->google-cloud-aiplatform) (1.68.1)\n",
            "Requirement already satisfied: grpcio-status<2.0.dev0,>=1.33.2 in /usr/local/lib/python3.10/dist-packages (from google-api-core[grpc]!=2.0.*,!=2.1.*,!=2.2.*,!=2.3.*,!=2.4.*,!=2.5.*,!=2.6.*,!=2.7.*,<3.0.0dev,>=1.34.1->google-cloud-aiplatform) (1.62.3)\n",
            "Requirement already satisfied: cachetools<6.0,>=2.0.0 in /usr/local/lib/python3.10/dist-packages (from google-auth<3.0.0dev,>=2.14.1->google-cloud-aiplatform) (5.5.0)\n",
            "Requirement already satisfied: pyasn1-modules>=0.2.1 in /usr/local/lib/python3.10/dist-packages (from google-auth<3.0.0dev,>=2.14.1->google-cloud-aiplatform) (0.4.1)\n",
            "Requirement already satisfied: rsa<5,>=3.1.4 in /usr/local/lib/python3.10/dist-packages (from google-auth<3.0.0dev,>=2.14.1->google-cloud-aiplatform) (4.9)\n",
            "Requirement already satisfied: google-cloud-core<3.0.0dev,>=1.6.0 in /usr/local/lib/python3.10/dist-packages (from google-cloud-bigquery!=3.20.0,<4.0.0dev,>=1.15.0->google-cloud-aiplatform) (2.4.1)\n",
            "Requirement already satisfied: google-resumable-media<3.0dev,>=0.6.0 in /usr/local/lib/python3.10/dist-packages (from google-cloud-bigquery!=3.20.0,<4.0.0dev,>=1.15.0->google-cloud-aiplatform) (2.7.2)\n",
            "Requirement already satisfied: python-dateutil<3.0dev,>=2.7.2 in /usr/local/lib/python3.10/dist-packages (from google-cloud-bigquery!=3.20.0,<4.0.0dev,>=1.15.0->google-cloud-aiplatform) (2.8.2)\n",
            "Requirement already satisfied: grpc-google-iam-v1<1.0.0dev,>=0.12.4 in /usr/local/lib/python3.10/dist-packages (from google-cloud-resource-manager<3.0.0dev,>=1.3.3->google-cloud-aiplatform) (0.13.1)\n",
            "Requirement already satisfied: google-crc32c<2.0dev,>=1.0 in /usr/local/lib/python3.10/dist-packages (from google-cloud-storage<3.0.0dev,>=1.32.0->google-cloud-aiplatform) (1.6.0)\n",
            "Requirement already satisfied: annotated-types>=0.6.0 in /usr/local/lib/python3.10/dist-packages (from pydantic<3->google-cloud-aiplatform) (0.7.0)\n",
            "Requirement already satisfied: pydantic-core==2.27.1 in /usr/local/lib/python3.10/dist-packages (from pydantic<3->google-cloud-aiplatform) (2.27.1)\n",
            "Requirement already satisfied: typing-extensions>=4.12.2 in /usr/local/lib/python3.10/dist-packages (from pydantic<3->google-cloud-aiplatform) (4.12.2)\n",
            "Requirement already satisfied: numpy<3,>=1.14 in /usr/local/lib/python3.10/dist-packages (from shapely<3.0.0dev->google-cloud-aiplatform) (1.26.4)\n",
            "Requirement already satisfied: pyasn1<0.7.0,>=0.4.6 in /usr/local/lib/python3.10/dist-packages (from pyasn1-modules>=0.2.1->google-auth<3.0.0dev,>=2.14.1->google-cloud-aiplatform) (0.6.1)\n",
            "Requirement already satisfied: six>=1.5 in /usr/local/lib/python3.10/dist-packages (from python-dateutil<3.0dev,>=2.7.2->google-cloud-bigquery!=3.20.0,<4.0.0dev,>=1.15.0->google-cloud-aiplatform) (1.17.0)\n",
            "Requirement already satisfied: charset-normalizer<4,>=2 in /usr/local/lib/python3.10/dist-packages (from requests<3.0.0.dev0,>=2.18.0->google-api-core!=2.0.*,!=2.1.*,!=2.2.*,!=2.3.*,!=2.4.*,!=2.5.*,!=2.6.*,!=2.7.*,<3.0.0dev,>=1.34.1->google-api-core[grpc]!=2.0.*,!=2.1.*,!=2.2.*,!=2.3.*,!=2.4.*,!=2.5.*,!=2.6.*,!=2.7.*,<3.0.0dev,>=1.34.1->google-cloud-aiplatform) (3.4.0)\n",
            "Requirement already satisfied: idna<4,>=2.5 in /usr/local/lib/python3.10/dist-packages (from requests<3.0.0.dev0,>=2.18.0->google-api-core!=2.0.*,!=2.1.*,!=2.2.*,!=2.3.*,!=2.4.*,!=2.5.*,!=2.6.*,!=2.7.*,<3.0.0dev,>=1.34.1->google-api-core[grpc]!=2.0.*,!=2.1.*,!=2.2.*,!=2.3.*,!=2.4.*,!=2.5.*,!=2.6.*,!=2.7.*,<3.0.0dev,>=1.34.1->google-cloud-aiplatform) (3.10)\n",
            "Requirement already satisfied: urllib3<3,>=1.21.1 in /usr/local/lib/python3.10/dist-packages (from requests<3.0.0.dev0,>=2.18.0->google-api-core!=2.0.*,!=2.1.*,!=2.2.*,!=2.3.*,!=2.4.*,!=2.5.*,!=2.6.*,!=2.7.*,<3.0.0dev,>=1.34.1->google-api-core[grpc]!=2.0.*,!=2.1.*,!=2.2.*,!=2.3.*,!=2.4.*,!=2.5.*,!=2.6.*,!=2.7.*,<3.0.0dev,>=1.34.1->google-cloud-aiplatform) (2.2.3)\n",
            "Requirement already satisfied: certifi>=2017.4.17 in /usr/local/lib/python3.10/dist-packages (from requests<3.0.0.dev0,>=2.18.0->google-api-core!=2.0.*,!=2.1.*,!=2.2.*,!=2.3.*,!=2.4.*,!=2.5.*,!=2.6.*,!=2.7.*,<3.0.0dev,>=1.34.1->google-api-core[grpc]!=2.0.*,!=2.1.*,!=2.2.*,!=2.3.*,!=2.4.*,!=2.5.*,!=2.6.*,!=2.7.*,<3.0.0dev,>=1.34.1->google-cloud-aiplatform) (2024.12.14)\n",
            "Requirement already satisfied: pymupdf in /usr/local/lib/python3.10/dist-packages (1.25.1)\n"
          ]
        }
      ]
    },
    {
      "cell_type": "markdown",
      "source": [
        "Importing necessary libraries"
      ],
      "metadata": {
        "id": "6VwkRGxcLOI8"
      }
    },
    {
      "cell_type": "code",
      "source": [
        "import base64\n",
        "import vertexai\n",
        "from vertexai.generative_models import GenerativeModel, Part, FinishReason\n",
        "import vertexai.preview.generative_models as generative_models"
      ],
      "metadata": {
        "id": "GsasHPdCPPQ0"
      },
      "execution_count": 76,
      "outputs": []
    },
    {
      "cell_type": "markdown",
      "source": [
        "extracting content from the contract pdf"
      ],
      "metadata": {
        "id": "2OubWbAeLbTD"
      }
    },
    {
      "cell_type": "code",
      "execution_count": 77,
      "metadata": {
        "id": "kYfoIyIROrnG"
      },
      "outputs": [],
      "source": [
        "# import vertexai\n",
        "\n",
        "# def extract_content_with_gemini(pdf_path):\n",
        "#     \"\"\"\n",
        "#     Extracts the content of a PDF directly using Gemini API with the specified system prompt.\n",
        "#     \"\"\"\n",
        "#     # Initialize Vertex AI\n",
        "#     vertexai.init(project=\"zenskar-assignment-445217\", location=\"us-central1\")\n",
        "\n",
        "#     # Load Gemini model\n",
        "#     model = GenerativeModel(\"gemini-1.5-pro-001\")\n",
        "\n",
        "#     # System prompt for structured extraction\n",
        "#     SYSTEM_PROMPT = \"\"\"\n",
        "#     You are given a Legal Contract Document.\n",
        "\n",
        "#     Extract the contents of this document in a structured and organized manner.\n",
        "#     Ensure every field is followed by its respective value in a well-organized manner with clear headings and subheadings as and when necessary.\n",
        "\n",
        "#     Whenever tabular data is present, describe the data clearly and extract it mentioning in order the respective columns/rows and so on.\n",
        "\n",
        "#     IMPORTANT: Ensure every field in the contract is extracted along with its value IN SEPARATE LINES to ensure better readability WITHOUT FAIL.\n",
        "#     \"\"\"\n",
        "\n",
        "#     # Read the PDF file in binary mode\n",
        "#     with open(pdf_path, \"rb\") as pdf_file:\n",
        "#         pdf_data = pdf_file.read()\n",
        "\n",
        "#     # Send the PDF content to Gemini\n",
        "#     responses = model.generate_content(\n",
        "#         [SYSTEM_PROMPT],\n",
        "#         inputs={\"content\": pdf_data},\n",
        "#         generation_config={\"max_tokens\": 2000},\n",
        "#         safety_settings={\"harm_category\": \"none\"},\n",
        "#         stream=True,\n",
        "#     )\n",
        "\n",
        "#     # Output the response\n",
        "#     for response in responses:\n",
        "#         print(response.text, end=\"\")\n",
        "\n",
        "# if __name__ == \"__main__\":\n",
        "#     # Path to your PDF file (ensure this file is uploaded to Google Colab)\n",
        "#     pdf_path = \"/content/sample contract.pdf\"\n",
        "\n",
        "#     # Extract content directly from the PDF using Gemini\n",
        "#     print(\"Structured Output from Gemini:\")\n",
        "#     extract_content_with_gemini(pdf_path)\n"
      ]
    },
    {
      "cell_type": "code",
      "source": [
        "# import vertexai\n",
        "\n",
        "# def extract_content_with_gemini(pdf_path):\n",
        "#     \"\"\"\n",
        "#     Extracts the content of a PDF directly using Gemini API with the specified system prompt.\n",
        "#     \"\"\"\n",
        "#     # Initialize Vertex AI\n",
        "#     vertexai.init(project=\"zenskar-assignment-445217\", location=\"us-central1\")\n",
        "\n",
        "#     # Load the Gemini model\n",
        "#     model = GenerativeModel(\"gemini-1.5-pro-001\")\n",
        "\n",
        "#     # System prompt for structured extraction\n",
        "#     SYSTEM_PROMPT = \"\"\"\n",
        "#     Extract the contents of the document given below as it is\n",
        "#     \"\"\"\n",
        "\n",
        "#     # Read the PDF file in binary mode\n",
        "#     with open(pdf_path, \"rb\") as pdf_file:\n",
        "#         pdf_data = pdf_file.read()\n",
        "\n",
        "#     # Convert binary PDF data to a string format for the model\n",
        "#     pdf_content = pdf_data.decode(\"latin1\")  # Adjust encoding if necessary\n",
        "\n",
        "#     # Combine the system prompt and PDF content\n",
        "#     full_content = f\"{SYSTEM_PROMPT}\\n\\n{pdf_content}\"\n",
        "\n",
        "#     # Generate content using Gemini\n",
        "#     responses = model.generate_content(\n",
        "#         [full_content] # Combine system prompt and PDF content\n",
        "#     )\n",
        "\n",
        "#     # Output the structured response\n",
        "#     print(\"Structured Content from Gemini:\")\n",
        "#     print(responses.text)\n",
        "\n",
        "# if __name__ == \"__main__\":\n",
        "#     # Path to your PDF file (ensure this file is uploaded to Google Colab)\n",
        "#     pdf_path = \"/content/ReynoldsConsumerProductsInc_20200121_S-1A_EX-10.22_11948918_EX-10.22_Service Agreement.pdf\"\n",
        "\n",
        "#     # Extract content directly from the PDF using Gemini\n",
        "#     extract_content_with_gemini(pdf_path)\n"
      ],
      "metadata": {
        "id": "db8w-ppqPWdi"
      },
      "execution_count": 78,
      "outputs": []
    },
    {
      "cell_type": "markdown",
      "source": [
        "Tring vetex AI website(https://cloud.google.com/vertex-ai/generative-ai/docs/samples/generativeaionvertexai-gemini-pdf#generativeaionvertexai_gemini_pdf-python)"
      ],
      "metadata": {
        "id": "vuR77-uZTOlo"
      }
    },
    {
      "cell_type": "code",
      "source": [
        "!pip install pypdf2"
      ],
      "metadata": {
        "colab": {
          "base_uri": "https://localhost:8080/"
        },
        "id": "zWbrHJd7T_ig",
        "outputId": "c411fbc4-d29b-4609-bb1b-e9c922e421cf"
      },
      "execution_count": 79,
      "outputs": [
        {
          "output_type": "stream",
          "name": "stdout",
          "text": [
            "Requirement already satisfied: pypdf2 in /usr/local/lib/python3.10/dist-packages (3.0.1)\n"
          ]
        }
      ]
    },
    {
      "cell_type": "code",
      "source": [
        "import vertexai\n",
        "from vertexai.generative_models import GenerativeModel\n",
        "from PyPDF2 import PdfReader\n",
        "\n",
        "# Initialize Vertex AI\n",
        "vertexai.init(project=\"zenskar-assignment-445217\", location=\"us-central1\")\n",
        "\n",
        "# Load the Gemini model\n",
        "model = GenerativeModel(\"gemini-1.5-flash-002\")\n",
        "\n",
        "# System prompt for extraction\n",
        "prompt = \"\"\"\n",
        "//You are given the contents a Legal Contract Document\n",
        "\n",
        "Extract the contents of this document in a structured and organized manner. Ensure every field is followed by its respective value in a well organized manner with clear headings and subheadings as and when necessary.\n",
        "\n",
        "Whenever tabular data is present, describe the data clearly and extract it mentioning in orderthe respective columns/rows and so on\n",
        "\n",
        "IMPORTANT: Ensure every field in the contract is extracted along with its value IN SEPARATE LINES to ensure better readability WITHOUT FAIL\n",
        "\"\"\"\n",
        "\n",
        "# Path to your PDF file\n",
        "pdf_file_path = \"/content/sample contract.pdf\"\n",
        "\n",
        "# Extract text from the PDF\n",
        "def extract_text_from_pdf(pdf_path):\n",
        "    reader = PdfReader(pdf_path)\n",
        "    text = \"\"\n",
        "    for page in reader.pages:\n",
        "        text += page.extract_text()\n",
        "    return text\n",
        "\n",
        "pdf_content = extract_text_from_pdf(pdf_file_path)\n",
        "\n",
        "# Combine the extracted text and the prompt\n",
        "contents = [f\"{prompt}\\n\\n{pdf_content}\"]\n",
        "\n",
        "# Generate content using Gemini\n",
        "response = model.generate_content(contents)\n",
        "\n",
        "# Print the structured response\n",
        "print(response.text)\n"
      ],
      "metadata": {
        "colab": {
          "base_uri": "https://localhost:8080/"
        },
        "id": "m0VZKiSpLsxN",
        "outputId": "4bcf3705-6d40-4a3e-8a30-e837e68bc964"
      },
      "execution_count": 80,
      "outputs": [
        {
          "output_type": "stream",
          "name": "stdout",
          "text": [
            "**Order Form**\n",
            "\n",
            "**Date:** December 13, 2023\n",
            "**Order Form Number:**  (Not specified in the document)\n",
            "**Expires in:** 30 days\n",
            "\n",
            "**Company:** Company A\n",
            "**Address:** 9th Floor, Boston, MA 02111\n",
            "\n",
            "**Client Information**\n",
            "\n",
            "**Client:** Company B\n",
            "**Client Contact Name:** Rob Keatts\n",
            "**Client Contact Email:** abc@companyb.comn\n",
            "**Billing Contact:** (Not specified)\n",
            "**Bill to Email:** (Not specified)\n",
            "**Bill to Address:** (Not specified)\n",
            "\n",
            "**Services Billing:** Subscription Billing\n",
            "**Payment Terms:** Net 30\n",
            "\n",
            "**Products: Professional Services**\n",
            "\n",
            "| Product Services Description | Price | Discount |\n",
            "|---|---|---|\n",
            "| Product A Per Statement of Work SOW-CFCU-WCOBCMC-2023 | $10,000 | $0 |\n",
            "| Product B Per Statement of Work | $15,000 | $0 |\n",
            "| Product C Per Statement of Work | $5,000 | $0 |\n",
            "| Product D Per Statement of Work | $5,000 | $0 |\n",
            "**Total:** $25,000\n",
            "\n",
            "\n",
            "**Products: Subscription Services**\n",
            "\n",
            "| Product Services Description | Term (Years) | Renewal Term (Year) | Price | Discount | Monthly Fees |\n",
            "|---|---|---|---|---|---|\n",
            "| Product A A conversational digital assistant to provide answers to frequently asked questions (FAQs) on a public website. | 3 | 1 | $2,500 | $250 | $2,250 |\n",
            "| Product B The ability for a Posh digital product to transfer a chat to one of the Client's live chat agents. | 3 | 1 | $500 | $50 | $450 |\n",
            "| Product C A conversational digital assistant to provide answers to FAQs within the digital and mobile banking version of the authenticated environment. | 3 | 1 | $3,500 | $350 | $3,150 |\n",
            "| Product D The ability for a Posh digital product to transfer a chat to one of the Client's live chat agents. | 3 | 1 | $500 | $50 | $450 |\n",
            "**Total:** $6,300\n",
            "\n",
            "**Included above:**\n",
            "* Analytics Dashboard: Unlimited seats for the Client to view data and analytics related to all products purchased.\n",
            "* Content Management System: Unlimited seats for the Client to view and manage customized content for Digital and Voice products.\n",
            "\n",
            "**Invoice Schedule**\n",
            "\n",
            "| Year | Description | Total |\n",
            "|---|---|---|\n",
            "| 1 | Upfront, One-Time Implementation Fees | $25,000 |\n",
            "| 1 | Minimum Monthly Subscription Fees | $6,300 |\n",
            "| 2 | Minimum Monthly Subscription Fees | $6,300 |\n",
            "| 3 | Minimum Monthly Subscription Fees | $6,300 |\n",
            "| 4 | Minimum Monthly Subscription Fees (Renewed) | $6,615 |\n",
            "\n",
            "\n",
            "**General Terms and Conditions**\n",
            "\n",
            "**Payment Terms:** All fees are due Net 30 days from invoice date. Professional Services Fees are invoiced within 30 days of Project Kick-off. Annual fees are invoiced at \"Go-Live\", and then annually every year thereafter.\n",
            "\n",
            "**Renewal Terms:** This Order Form will renew for successive 12-month terms, unless either Party provides written notice of non-renewal to the other Party at least 60 days prior to the end of the current Term. Unless otherwise communicated by the parties, in writing, or a new Order Form is executed, an automatic increase of 5% will apply to the Annual Subscription Fees on renewal of each Term.\n",
            "\n",
            "**Effective Dates:** Subscription Service will commence on the “Go Live” date of each product purchased with the duration of the Order Form Term, at the minimum. End of service date \"End Date\" will be determined based on the Renewal Terms above. If the \"Go Live\" date does not occur within one year of the order form signing date, the effective subscription start date shall begin on the signing date anniversary, unless mutually agreed upon by both parties.\n",
            "\n",
            "**Order Form Acceptance and Authorization**\n",
            "\n",
            "**Client Company Name:** Company B\n",
            "**Company Name:** Company A\n",
            "**Client Signatory Name:** (Not specified)\n",
            "**Date:** 12/15/2023\n",
            "**Date:** 12/15/2023\n",
            "\n",
            "**End of Order Form**\n",
            "\n"
          ]
        }
      ]
    },
    {
      "cell_type": "code",
      "source": [
        "contract_text=response.text"
      ],
      "metadata": {
        "id": "1KiRy3iDcIOr"
      },
      "execution_count": 81,
      "outputs": []
    },
    {
      "cell_type": "markdown",
      "source": [
        "extraction of fields and refinement with regex"
      ],
      "metadata": {
        "id": "HniTOKYGi6KJ"
      }
    },
    {
      "cell_type": "code",
      "source": [
        "import json\n",
        "import re\n",
        "import spacy\n",
        "\n",
        "# Step 1: Generate the dynamic prompt for the LLM\n",
        "def create_dynamic_prompt(fields, contract_text):\n",
        "    \"\"\"\n",
        "    Generate a dynamic prompt for the LLM based on the fields and contract text.\n",
        "    \"\"\"\n",
        "    step_1_instructions = \"1. First, extract the fields exactly as they appear in the text, preserving the raw format from the contract. Use the following keys:\"\n",
        "    step_1_keys = \"\\n\".join([f\"- \\\"{field}\\\"\" for field in fields.keys()])\n",
        "\n",
        "    step_2_instructions = (\n",
        "        \"2. Then, transform the extracted fields to ensure they follow these rules and provide the reformatted output:\"\n",
        "    )\n",
        "    step_2_rules = \"\\n\".join([f\"- \\\"{field}\\\": {instruction}\" for field, instruction in fields.items()])\n",
        "\n",
        "    final_output_instruction = \"Provide only the final JSON output. Do not include any intermediate steps, explanations, or raw iterations in the response.\"\n",
        "\n",
        "    # Assemble the full prompt\n",
        "    prompt = f\"\"\"\n",
        "    Extract the following fields from the contract text in two stages:\n",
        "\n",
        "    {step_1_instructions}\n",
        "    {step_1_keys}\n",
        "\n",
        "    {step_2_instructions}\n",
        "    {step_2_rules}\n",
        "\n",
        "    {final_output_instruction}\n",
        "    Contract Text:\n",
        "    {contract_text}\n",
        "    \"\"\"\n",
        "    return prompt.strip()\n",
        "\n",
        "\n",
        "# Step 2: Define the fields and guidelines\n",
        "fields = {\n",
        "    \"Contract ID\": \"Must be alphanumeric with optional hyphens (e.g., 'ABC-123'). If missing, look for unique identifiers labeled as 'Contract ID' or near terms like 'Agreement Number' or 'Reference Number'.\",\n",
        "    \"Customer Name\": \"Must be a valid name as a string. If missing, search for names associated with 'Customer', 'Client', or 'Party'.\",\n",
        "    \"Contract Start Date\": \"Must follow the format 'YYYY-MM-DD'. If missing, infer from phrases like 'Effective Date', 'Start Date', or 'Commencement Date'.\",\n",
        "    \"Contract End Date\": \"Must follow the format 'YYYY-MM-DD'. If missing, infer from phrases like 'End Date', 'Expiration Date', or 'Termination Date'.\",\n",
        "    \"Payment Terms\": \"Must represent terms of payment, which can include phrases like 'Net X' (e.g., 'Net 30'), 'Due in X days', or any other description indicating when payment is expected.\",\n",
        "    \"Contract Amount\": \"Must be a valid currency format (e.g., '$10,000.00'). If missing, look for numeric values near 'Amount', 'Fee', or 'Total'. IMPORTANT: Ensure to add up all the payment terms as required and give the final amount only.\",\n",
        "    \"Billing Frequency\": \"Must indicate how often payments or services are recurring. This can include terms like 'Monthly', 'Yearly', 'Weekly', 'Daily', or phrases like 'every month', 'annually', 'per week', etc.\",\n",
        "    \"Contract Type\": \"Must indicate the type of contract, such as 'Subscription', 'Fixed', 'Hourly', or 'Project-Based'. This can include phrases like 'Subscription Agreement', 'One-time Fixed Fee', 'Hourly Rate', 'Project Work', or similar.\"\n",
        "}\n",
        "\n",
        "\n",
        "# Step 3: Generate LLM Output Using Gemini\n",
        "def generate_llm_output(prompt):\n",
        "    \"\"\"\n",
        "    Generate output from Gemini using the dynamic prompt.\n",
        "    \"\"\"\n",
        "    # Initialize Vertex AI Gemini model\n",
        "    model = GenerativeModel(\"gemini-1.5-pro-002\")\n",
        "\n",
        "    # Generate content using the prompt\n",
        "    response = model.generate_content(prompt)\n",
        "\n",
        "    # Extract the text content from the response\n",
        "    llm_output = response.text\n",
        "\n",
        "    # Clean the output to ensure it contains only valid JSON\n",
        "    try:\n",
        "        # Find the JSON object in the response using regex\n",
        "        match = re.search(r\"\\{.*\\}\", llm_output, re.DOTALL)\n",
        "        if match:\n",
        "            return match.group(0)\n",
        "        else:\n",
        "            raise ValueError(\"No valid JSON found in the LLM output.\")\n",
        "    except Exception as e:\n",
        "        raise ValueError(f\"Error extracting JSON from LLM output: {e}\")\n",
        "\n",
        "\n",
        "# Step 4: Refine the LLM-generated fields using deterministic approaches\n",
        "def refine_fields_with_regex_and_spacy(llm_output):\n",
        "    \"\"\"\n",
        "    Refine and validate the LLM output using deterministic approaches such as regex and SpaCy.\n",
        "    \"\"\"\n",
        "    # Fix and parse JSON output\n",
        "    try:\n",
        "        fields = json.loads(llm_output)\n",
        "    except json.JSONDecodeError:\n",
        "        raise ValueError(\"Invalid JSON format in LLM output.\")\n",
        "\n",
        "    # Initialize SpaCy NLP model\n",
        "    nlp = spacy.load(\"en_core_web_sm\")\n",
        "\n",
        "    # Define regex patterns for each field\n",
        "    patterns = {\n",
        "        \"Contract ID\": r\"^[A-Za-z0-9\\-]+$\",  # Alphanumeric with hyphens\n",
        "        \"Customer Name\": r\".+\",  # Any non-empty string\n",
        "        \"Contract Start Date\": r\"^\\d{4}-\\d{2}-\\d{2}$\",  # Date in YYYY-MM-DD\n",
        "        \"Contract End Date\": r\"^\\d{4}-\\d{2}-\\d{2}$\",  # Date in YYYY-MM-DD\n",
        "        \"Payment Terms\": r\"^[A-Za-z0-9\\s\\-]+$\",  # Alphanumeric with spaces and hyphens\n",
        "        \"Contract Amount\": r\"^\\$\\d{1,3}(,\\d{3})*(\\.\\d{2})?$\",  # Currency format\n",
        "        \"Billing Frequency\": r\"^[A-Za-z0-9\\s\\-]+$\",  # Alphanumeric with spaces and hyphens\n",
        "        \"Contract Type\": r\"^[A-Za-z0-9\\s\\-]+$\"  # Alphanumeric with spaces and hyphens\n",
        "    }\n",
        "\n",
        "    # Refine and validate fields\n",
        "    refined_fields = {}\n",
        "    for field, value in fields.items():\n",
        "        if value is None:  # Handle null values\n",
        "            refined_fields[field] = \"Missing\"\n",
        "        elif field in patterns and re.match(patterns[field], value, re.IGNORECASE):\n",
        "            refined_fields[field] = value  # Valid value\n",
        "        else:\n",
        "            # Use SpaCy for advanced validation if needed (e.g., for names)\n",
        "            if field == \"Customer Name\" and value:\n",
        "                doc = nlp(value)\n",
        "                if any(ent.label_ == \"ORG\" or ent.label_ == \"PERSON\" for ent in doc.ents):\n",
        "                    refined_fields[field] = value\n",
        "                else:\n",
        "                    refined_fields[field] = \"Invalid Format\"\n",
        "            else:\n",
        "                refined_fields[field] = \"Invalid Format\"\n",
        "\n",
        "    return refined_fields\n",
        "\n",
        "# Generate the dynamic prompt\n",
        "prompt = create_dynamic_prompt(fields, contract_text)\n",
        "\n",
        "# Generate LLM output from Gemini\n",
        "llm_output = generate_llm_output(prompt)\n",
        "\n",
        "# Refine fields\n",
        "refined_fields = refine_fields_with_regex_and_spacy(llm_output)\n",
        "\n",
        "# Print the refined fields\n",
        "print(\"Refined Fields:\", json.dumps(refined_fields, indent=4))\n"
      ],
      "metadata": {
        "colab": {
          "base_uri": "https://localhost:8080/"
        },
        "id": "csXlgk3ni8nP",
        "outputId": "2870ba74-1382-4f20-a477-fea47a75635e"
      },
      "execution_count": 82,
      "outputs": [
        {
          "output_type": "stream",
          "name": "stdout",
          "text": [
            "Refined Fields: {\n",
            "    \"Contract ID\": \"Missing\",\n",
            "    \"Customer Name\": \"Company B\",\n",
            "    \"Contract Start Date\": \"2023-12-15\",\n",
            "    \"Contract End Date\": \"2027-12-14\",\n",
            "    \"Payment Terms\": \"Net 30\",\n",
            "    \"Contract Amount\": \"$55,515.00\",\n",
            "    \"Billing Frequency\": \"Annually\",\n",
            "    \"Contract Type\": \"Subscription\"\n",
            "}\n"
          ]
        }
      ]
    },
    {
      "cell_type": "code",
      "source": [
        "final_output=json.dumps(refined_fields, indent=4)\n",
        "print(final_output)"
      ],
      "metadata": {
        "colab": {
          "base_uri": "https://localhost:8080/"
        },
        "id": "10L4YDfKZ3Td",
        "outputId": "5ef0b1f8-862f-4390-ab44-81ff175db360"
      },
      "execution_count": 83,
      "outputs": [
        {
          "output_type": "stream",
          "name": "stdout",
          "text": [
            "{\n",
            "    \"Contract ID\": \"Missing\",\n",
            "    \"Customer Name\": \"Company B\",\n",
            "    \"Contract Start Date\": \"2023-12-15\",\n",
            "    \"Contract End Date\": \"2027-12-14\",\n",
            "    \"Payment Terms\": \"Net 30\",\n",
            "    \"Contract Amount\": \"$55,515.00\",\n",
            "    \"Billing Frequency\": \"Annually\",\n",
            "    \"Contract Type\": \"Subscription\"\n",
            "}\n"
          ]
        }
      ]
    },
    {
      "cell_type": "markdown",
      "source": [
        "Step 3: LLM Validation and Transformation"
      ],
      "metadata": {
        "id": "frDGXjOtbaSn"
      }
    },
    {
      "cell_type": "code",
      "source": [
        "import logging\n",
        "\n",
        "# Configure logging\n",
        "log_filename = \"validation_log.txt\"  # Specify the log file name\n",
        "\n",
        "logging.basicConfig(\n",
        "    level=logging.INFO,\n",
        "    format=\"%(asctime)s - %(levelname)s - %(message)s\",\n",
        "    handlers=[\n",
        "        logging.StreamHandler(),  # Log to console\n",
        "        logging.FileHandler(log_filename, mode=\"w\")  # Log to file\n",
        "    ]\n",
        ")\n",
        "\n",
        "def validate_and_transform_fields(refined_fields):\n",
        "    \"\"\"\n",
        "    Validate the refined fields to ensure they meet the required formats.\n",
        "    Log details of validation and transformations for transparency.\n",
        "    \"\"\"\n",
        "    # Define default values for non-critical fields\n",
        "    default_values = {\n",
        "        \"Contract ID\": \"Unknown\",\n",
        "        \"Payment Terms\": \"Net 30\",  # Default to \"Net 30\" if not provided\n",
        "        \"Contract Amount\": \"$0.00\",  # Default to $0 if missing\n",
        "        \"Billing Frequency\": \"Monthly\",  # Default to Monthly\n",
        "        \"Contract Type\": \"General Agreement\"  # Default to a general agreement\n",
        "    }\n",
        "\n",
        "    # Validation results and explainable log\n",
        "    validation_log = []\n",
        "\n",
        "    for field, value in refined_fields.items():\n",
        "        if value == \"Missing\" or value == \"Invalid Format\":\n",
        "            # Log missing/invalid fields\n",
        "            validation_log.append({\n",
        "                \"Field\": field,\n",
        "                \"Status\": \"Missing or Invalid\",\n",
        "                \"Action\": f\"Filling with default value: {default_values.get(field, 'None')}\"\n",
        "            })\n",
        "            # Fill with default if non-critical\n",
        "            refined_fields[field] = default_values.get(field, \"None\")\n",
        "        else:\n",
        "            # Perform format-specific validations\n",
        "            if field in [\"Contract Start Date\", \"Contract End Date\"]:\n",
        "                if not re.match(r\"^\\d{4}-\\d{2}-\\d{2}$\", value):\n",
        "                    validation_log.append({\n",
        "                        \"Field\": field,\n",
        "                        \"Status\": \"Invalid Format\",\n",
        "                        \"Action\": \"Flagging as Invalid\"\n",
        "                    })\n",
        "                    refined_fields[field] = \"Invalid Format\"\n",
        "                else:\n",
        "                    validation_log.append({\n",
        "                        \"Field\": field,\n",
        "                        \"Status\": \"Valid\",\n",
        "                        \"Action\": \"No Action Needed\"\n",
        "                    })\n",
        "\n",
        "            elif field == \"Contract Amount\":\n",
        "                if not re.match(r\"^\\$\\d{1,3}(,\\d{3})*(\\.\\d{2})?$\", value):\n",
        "                    validation_log.append({\n",
        "                        \"Field\": field,\n",
        "                        \"Status\": \"Invalid Format\",\n",
        "                        \"Action\": \"Flagging as Invalid\"\n",
        "                    })\n",
        "                    refined_fields[field] = \"Invalid Format\"\n",
        "                else:\n",
        "                    validation_log.append({\n",
        "                        \"Field\": field,\n",
        "                        \"Status\": \"Valid\",\n",
        "                        \"Action\": \"No Action Needed\"\n",
        "                    })\n",
        "\n",
        "            else:\n",
        "                # For all other fields, log as valid\n",
        "                validation_log.append({\n",
        "                    \"Field\": field,\n",
        "                    \"Status\": \"Valid\",\n",
        "                    \"Action\": \"No Action Needed\"\n",
        "                })\n",
        "\n",
        "    # Output the validation log for transparency\n",
        "    for entry in validation_log:\n",
        "        logging.info(entry)\n",
        "\n",
        "    return refined_fields\n",
        "\n",
        "\n",
        "# Example: Validate and Transform Fields\n",
        "validated_and_transformed_fields = validate_and_transform_fields(refined_fields)\n",
        "\n",
        "# Print the final validated and transformed fields\n",
        "print(\"Final Validated and Transformed Fields:\", json.dumps(validated_and_transformed_fields, indent=4))\n"
      ],
      "metadata": {
        "colab": {
          "base_uri": "https://localhost:8080/"
        },
        "id": "fB2x6V9eyWl9",
        "outputId": "f0a08147-b6d5-425b-c1cd-a92a87e913b2"
      },
      "execution_count": 84,
      "outputs": [
        {
          "output_type": "stream",
          "name": "stdout",
          "text": [
            "Final Validated and Transformed Fields: {\n",
            "    \"Contract ID\": \"Unknown\",\n",
            "    \"Customer Name\": \"Company B\",\n",
            "    \"Contract Start Date\": \"2023-12-15\",\n",
            "    \"Contract End Date\": \"2027-12-14\",\n",
            "    \"Payment Terms\": \"Net 30\",\n",
            "    \"Contract Amount\": \"$55,515.00\",\n",
            "    \"Billing Frequency\": \"Annually\",\n",
            "    \"Contract Type\": \"Subscription\"\n",
            "}\n"
          ]
        }
      ]
    },
    {
      "cell_type": "code",
      "source": [],
      "metadata": {
        "id": "f74Lx-8TU1z8"
      },
      "execution_count": 84,
      "outputs": []
    },
    {
      "cell_type": "markdown",
      "source": [
        "LLM Explainability(visual)"
      ],
      "metadata": {
        "id": "x2Tdr7OGio3I"
      }
    },
    {
      "cell_type": "code",
      "source": [
        "import fitz  # PyMuPDF for PDF parsing\n",
        "import logging\n",
        "import json\n",
        "import re\n",
        "\n",
        "\n",
        "# Configure Logging for Explainability\n",
        "log_filename = \"explainability_log.txt\"\n",
        "logging.basicConfig(\n",
        "    level=logging.INFO,\n",
        "    format=\"%(asctime)s - %(levelname)s - %(message)s\",\n",
        "    handlers=[\n",
        "        logging.StreamHandler(),  # Logs to console\n",
        "        logging.FileHandler(log_filename, mode=\"w\")  # Logs to a file\n",
        "    ]\n",
        ")\n",
        "\n",
        "\n",
        "# Step 1: Highlight PDF with Extracted Fields\n",
        "def highlight_pdf(input_pdf_path, output_pdf_path, validated_and_transformed_fields):\n",
        "    \"\"\"\n",
        "    Create a visual overlay on the PDF to highlight extracted fields.\n",
        "    \"\"\"\n",
        "    try:\n",
        "        # Open the original PDF\n",
        "        pdf_document = fitz.open(input_pdf_path)\n",
        "\n",
        "        for page_num, page in enumerate(pdf_document, start=1):\n",
        "            for field, value in validated_and_transformed_fields.items():\n",
        "                if value != \"Missing\" and value != \"Invalid Format\":\n",
        "                    # Search for the text on the page\n",
        "                    text_instances = page.search_for(value)\n",
        "                    for inst in text_instances:\n",
        "                        # Highlight the found text\n",
        "                        page.add_highlight_annot(inst)\n",
        "\n",
        "        # Save the modified PDF\n",
        "        pdf_document.save(output_pdf_path, garbage=4, deflate=True)\n",
        "        pdf_document.close()\n",
        "\n",
        "        logging.info(f\"PDF highlights saved to: {output_pdf_path}\")\n",
        "\n",
        "    except Exception as e:\n",
        "        logging.error(f\"Error highlighting PDF: {e}\")\n",
        "\n",
        "\n",
        "# Step 2: Log LLM Reasoning or Confidence\n",
        "def log_llm_reasoning(validated_and_transformed_fields, reasoning_log):\n",
        "    \"\"\"\n",
        "    Log LLM reasoning or confidence scores for extracted fields.\n",
        "    \"\"\"\n",
        "    for field, reasoning in reasoning_log.items():\n",
        "        log_entry = {\n",
        "            \"Field\": field,\n",
        "            \"Validated Value\": validated_and_transformed_fields.get(field, \"Missing\"),\n",
        "            \"Reasoning or Confidence\": reasoning\n",
        "        }\n",
        "        logging.info(log_entry)\n",
        "\n",
        "\n",
        "# Integration with Validation and Transformation\n",
        "# # Example Input Data\n",
        "# validated_and_transformed_fields = {\n",
        "#     \"Contract ID\": \"123-ABC\",\n",
        "#     \"Customer Name\": \"Reynolds Consumer Products Inc.\",\n",
        "#     \"Contract Start Date\": \"2020-02-04\",\n",
        "#     \"Contract End Date\": \"2021-02-04\",\n",
        "#     \"Payment Terms\": \"Net 30\",\n",
        "#     \"Contract Amount\": \"$10,000.00\",\n",
        "#     \"Billing Frequency\": \"Monthly\",\n",
        "#     \"Contract Type\": \"Transition Services Agreement\"\n",
        "# }\n",
        "\n",
        "reasoning_log = {\n",
        "    \"Contract ID\": \"Detected near the 'Agreement Number' label in the document.\",\n",
        "    \"Customer Name\": \"Extracted from the 'Client' section of the PDF.\",\n",
        "    \"Contract Start Date\": \"Identified using keywords like 'Effective Date'.\",\n",
        "    \"Contract End Date\": \"Identified using keywords like 'Expiration Date'.\",\n",
        "    \"Payment Terms\": \"Matched payment terms format like 'Net X'.\",\n",
        "    \"Contract Amount\": \"Extracted near the 'Total Amount' section.\",\n",
        "    \"Billing Frequency\": \"Detected as a recurring pattern in the document.\",\n",
        "    \"Contract Type\": \"Matched with keywords like 'Agreement Type'.\"\n",
        "}\n",
        "\n",
        "# Highlight the PDF\n",
        "input_pdf_path = \"/content/sample contract.pdf\"  # Path to your input PDF\n",
        "output_pdf_path = \"highlighted_contract.pdf\"  # Path to save the highlighted PDF\n",
        "highlight_pdf(input_pdf_path, output_pdf_path, validated_and_transformed_fields)\n",
        "\n",
        "# Log LLM Reasoning\n",
        "log_llm_reasoning(validated_and_transformed_fields, reasoning_log)\n",
        "\n",
        "# Confirm Outputs\n",
        "print(f\"Logs have been written to {log_filename}\")\n",
        "print(f\"Highlighted PDF saved as: {output_pdf_path}\")\n"
      ],
      "metadata": {
        "colab": {
          "base_uri": "https://localhost:8080/"
        },
        "id": "vggO3nhGT9Hx",
        "outputId": "1652475d-65e5-4e2d-e2f8-dccb52b34a81"
      },
      "execution_count": 85,
      "outputs": [
        {
          "output_type": "stream",
          "name": "stdout",
          "text": [
            "Logs have been written to explainability_log.txt\n",
            "Highlighted PDF saved as: highlighted_contract.pdf\n"
          ]
        }
      ]
    },
    {
      "cell_type": "markdown",
      "source": [
        "Request to Zenskar API"
      ],
      "metadata": {
        "id": "5vrNmF1tkM5N"
      }
    },
    {
      "cell_type": "code",
      "source": [
        "!pip install requests"
      ],
      "metadata": {
        "colab": {
          "base_uri": "https://localhost:8080/"
        },
        "id": "1St88iBLkOCl",
        "outputId": "cf72d05e-4fab-40c3-b0de-4c28f442ce22"
      },
      "execution_count": 58,
      "outputs": [
        {
          "output_type": "stream",
          "name": "stdout",
          "text": [
            "Requirement already satisfied: requests in /usr/local/lib/python3.10/dist-packages (2.32.3)\n",
            "Requirement already satisfied: charset-normalizer<4,>=2 in /usr/local/lib/python3.10/dist-packages (from requests) (3.4.0)\n",
            "Requirement already satisfied: idna<4,>=2.5 in /usr/local/lib/python3.10/dist-packages (from requests) (3.10)\n",
            "Requirement already satisfied: urllib3<3,>=1.21.1 in /usr/local/lib/python3.10/dist-packages (from requests) (2.2.3)\n",
            "Requirement already satisfied: certifi>=2017.4.17 in /usr/local/lib/python3.10/dist-packages (from requests) (2024.12.14)\n"
          ]
        }
      ]
    },
    {
      "cell_type": "markdown",
      "source": [
        "POST REQUEST"
      ],
      "metadata": {
        "id": "Ad9UvutkmKgA"
      }
    },
    {
      "cell_type": "code",
      "source": [
        "import requests\n",
        "import json\n",
        "\n",
        "# Zenskar API endpoint\n",
        "url = \"https://api.zenskar.com/contract_v2\"\n",
        "\n",
        "# # Example validated fields (replace with actual validated data)\n",
        "# validated_fields = {\n",
        "#     \"Contract Amount\": \"$1,000.00\",\n",
        "#     \"Contract Start Date\": \"2024-12-01\",\n",
        "#     \"Contract End Date\": \"2024-12-31\",\n",
        "#     \"Customer Name\": \"John Doe\"\n",
        "# }\n",
        "\n",
        "# Transform validated fields into the payload format required by Zenskar\n",
        "payload = {\n",
        "    \"status\": \"draft\",\n",
        "    \"data\": validated_and_transformed_fields  # Embedding validated data into the payload\n",
        "}\n",
        "\n",
        "# Headers for the API request\n",
        "headers = {\n",
        "    \"accept\": \"application/json\",\n",
        "    \"content-type\": \"application/json\"\n",
        "}\n",
        "\n",
        "# Send the POST request to Zenskar API\n",
        "try:\n",
        "    response = requests.post(url, json=payload, headers=headers)\n",
        "\n",
        "    # Print the response from the API\n",
        "    print(\"API Response Status Code:\", response.status_code)\n",
        "    print(\"API Response Body:\", response.text)\n",
        "\n",
        "    # Handle success or failure\n",
        "    if response.status_code == 200 or response.status_code == 201:\n",
        "        print(\"Data successfully sent to Zenskar API.\")\n",
        "    else:\n",
        "        print(\"Failed to send data. Error:\", response.text)\n",
        "except requests.RequestException as e:\n",
        "    print(\"An error occurred while sending data to Zenskar API:\", e)\n"
      ],
      "metadata": {
        "id": "qbomzbeWmAbX",
        "colab": {
          "base_uri": "https://localhost:8080/"
        },
        "outputId": "d3a5dcba-252d-4e2d-dfa7-8b191fb6a9f1"
      },
      "execution_count": 46,
      "outputs": [
        {
          "output_type": "stream",
          "name": "stdout",
          "text": [
            "API Response Status Code: 403\n",
            "API Response Body: {\"Message\":\"User is not authorized to access this resource with an explicit deny\"}\n",
            "\n",
            "Failed to send data. Error: {\"Message\":\"User is not authorized to access this resource with an explicit deny\"}\n",
            "\n"
          ]
        }
      ]
    },
    {
      "cell_type": "code",
      "source": [],
      "metadata": {
        "id": "IqY7pjq2mM-H"
      },
      "execution_count": null,
      "outputs": []
    }
  ]
}